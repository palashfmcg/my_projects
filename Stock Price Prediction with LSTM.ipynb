{
 "cells": [
  {
   "cell_type": "code",
   "execution_count": 2,
   "id": "63489c1d",
   "metadata": {},
   "outputs": [],
   "source": [
    "import pandas as pd\n",
    "import yfinance as yf \n",
    "import datetime\n",
    "from datetime import date, timedelta\n",
    "today = date.today()\n",
    "import matplotlib.pyplot as plt\n",
    "from mpl_finance import candlestick2_ohlc"
   ]
  },
  {
   "cell_type": "code",
   "execution_count": 3,
   "id": "7c19e00b",
   "metadata": {},
   "outputs": [],
   "source": [
    "d1 = today.strftime(\"%Y-%m-%d\")\n",
    "end_date = d1\n",
    "d2 = date.today() - timedelta(days=5000)\n",
    "d2 = d2.strftime(\"%Y-%m-%d\")\n",
    "start_date = d2"
   ]
  },
  {
   "cell_type": "code",
   "execution_count": 4,
   "id": "fa0b3d4a",
   "metadata": {},
   "outputs": [],
   "source": [
    "data = yf.download('AAPL',start=start_date, end=end_date,progress=False)"
   ]
  },
  {
   "cell_type": "code",
   "execution_count": 5,
   "id": "0a3e67df",
   "metadata": {},
   "outputs": [],
   "source": [
    "data[\"Date\"] = data.index"
   ]
  },
  {
   "cell_type": "code",
   "execution_count": 6,
   "id": "337639d1",
   "metadata": {},
   "outputs": [],
   "source": [
    "data = data[[\"Date\", \"Open\", \"High\", \"Low\", \"Close\", \"Adj Close\", \"Volume\"]]"
   ]
  },
  {
   "cell_type": "code",
   "execution_count": 7,
   "id": "97019d20",
   "metadata": {},
   "outputs": [
    {
     "data": {
      "text/html": [
       "<div>\n",
       "<style scoped>\n",
       "    .dataframe tbody tr th:only-of-type {\n",
       "        vertical-align: middle;\n",
       "    }\n",
       "\n",
       "    .dataframe tbody tr th {\n",
       "        vertical-align: top;\n",
       "    }\n",
       "\n",
       "    .dataframe thead th {\n",
       "        text-align: right;\n",
       "    }\n",
       "</style>\n",
       "<table border=\"1\" class=\"dataframe\">\n",
       "  <thead>\n",
       "    <tr style=\"text-align: right;\">\n",
       "      <th></th>\n",
       "      <th>Date</th>\n",
       "      <th>Open</th>\n",
       "      <th>High</th>\n",
       "      <th>Low</th>\n",
       "      <th>Close</th>\n",
       "      <th>Adj Close</th>\n",
       "      <th>Volume</th>\n",
       "    </tr>\n",
       "  </thead>\n",
       "  <tbody>\n",
       "    <tr>\n",
       "      <th>3443</th>\n",
       "      <td>2022-05-27</td>\n",
       "      <td>145.389999</td>\n",
       "      <td>149.679993</td>\n",
       "      <td>145.259995</td>\n",
       "      <td>149.639999</td>\n",
       "      <td>149.639999</td>\n",
       "      <td>90978500</td>\n",
       "    </tr>\n",
       "    <tr>\n",
       "      <th>3444</th>\n",
       "      <td>2022-05-31</td>\n",
       "      <td>149.070007</td>\n",
       "      <td>150.660004</td>\n",
       "      <td>146.839996</td>\n",
       "      <td>148.839996</td>\n",
       "      <td>148.839996</td>\n",
       "      <td>103718400</td>\n",
       "    </tr>\n",
       "    <tr>\n",
       "      <th>3445</th>\n",
       "      <td>2022-06-01</td>\n",
       "      <td>149.899994</td>\n",
       "      <td>151.740005</td>\n",
       "      <td>147.679993</td>\n",
       "      <td>148.710007</td>\n",
       "      <td>148.710007</td>\n",
       "      <td>74286600</td>\n",
       "    </tr>\n",
       "    <tr>\n",
       "      <th>3446</th>\n",
       "      <td>2022-06-02</td>\n",
       "      <td>147.830002</td>\n",
       "      <td>151.270004</td>\n",
       "      <td>146.860001</td>\n",
       "      <td>151.210007</td>\n",
       "      <td>151.210007</td>\n",
       "      <td>72348100</td>\n",
       "    </tr>\n",
       "    <tr>\n",
       "      <th>3447</th>\n",
       "      <td>2022-06-03</td>\n",
       "      <td>146.899994</td>\n",
       "      <td>147.970001</td>\n",
       "      <td>144.460007</td>\n",
       "      <td>145.380005</td>\n",
       "      <td>145.380005</td>\n",
       "      <td>88471400</td>\n",
       "    </tr>\n",
       "  </tbody>\n",
       "</table>\n",
       "</div>"
      ],
      "text/plain": [
       "           Date        Open        High         Low       Close   Adj Close  \\\n",
       "3443 2022-05-27  145.389999  149.679993  145.259995  149.639999  149.639999   \n",
       "3444 2022-05-31  149.070007  150.660004  146.839996  148.839996  148.839996   \n",
       "3445 2022-06-01  149.899994  151.740005  147.679993  148.710007  148.710007   \n",
       "3446 2022-06-02  147.830002  151.270004  146.860001  151.210007  151.210007   \n",
       "3447 2022-06-03  146.899994  147.970001  144.460007  145.380005  145.380005   \n",
       "\n",
       "         Volume  \n",
       "3443   90978500  \n",
       "3444  103718400  \n",
       "3445   74286600  \n",
       "3446   72348100  \n",
       "3447   88471400  "
      ]
     },
     "execution_count": 7,
     "metadata": {},
     "output_type": "execute_result"
    }
   ],
   "source": [
    "data.reset_index(drop=True, inplace=True)\n",
    "data.tail()"
   ]
  },
  {
   "cell_type": "markdown",
   "id": "fabde550",
   "metadata": {},
   "source": [
    "## Candelstick"
   ]
  },
  {
   "cell_type": "code",
   "execution_count": 8,
   "id": "b88bb6b8",
   "metadata": {},
   "outputs": [
    {
     "data": {
      "image/png": "[encoded data removed]",
      "text/plain": [
       "<Figure size 432x288 with 1 Axes>"
      ]
     },
     "metadata": {
      "needs_background": "light"
     },
     "output_type": "display_data"
    }
   ],
   "source": [
    "fig, ax = plt.subplots()\n",
    "plt.xlabel(\"Date\")\n",
    "plt.ylabel(\"Price\")\n",
    "\n",
    "candlestick2_ohlc(ax, data.Open, data.High, data.Low, data.Close, width=1, colorup='g')\n",
    "plt.savefig('my_figure.png')\n",
    "plt.show()"
   ]
  },
  {
   "cell_type": "code",
   "execution_count": 9,
   "id": "7d4889a0",
   "metadata": {},
   "outputs": [
    {
     "data": {
      "text/plain": [
       "Close        1.000000\n",
       "Adj Close    0.999888\n",
       "Low          0.999883\n",
       "High         0.999876\n",
       "Open         0.999754\n",
       "Volume      -0.482142\n",
       "Name: Close, dtype: float64"
      ]
     },
     "execution_count": 9,
     "metadata": {},
     "output_type": "execute_result"
    }
   ],
   "source": [
    "correlation = data.corr()\n",
    "correlation['Close'].sort_values(ascending=False)"
   ]
  },
  {
   "cell_type": "code",
   "execution_count": 10,
   "id": "0cf2316f",
   "metadata": {},
   "outputs": [
    {
     "data": {
      "text/html": [
       "<div>\n",
       "<style scoped>\n",
       "    .dataframe tbody tr th:only-of-type {\n",
       "        vertical-align: middle;\n",
       "    }\n",
       "\n",
       "    .dataframe tbody tr th {\n",
       "        vertical-align: top;\n",
       "    }\n",
       "\n",
       "    .dataframe thead th {\n",
       "        text-align: right;\n",
       "    }\n",
       "</style>\n",
       "<table border=\"1\" class=\"dataframe\">\n",
       "  <thead>\n",
       "    <tr style=\"text-align: right;\">\n",
       "      <th></th>\n",
       "      <th>Date</th>\n",
       "      <th>Open</th>\n",
       "      <th>High</th>\n",
       "      <th>Low</th>\n",
       "      <th>Close</th>\n",
       "      <th>Adj Close</th>\n",
       "      <th>Volume</th>\n",
       "    </tr>\n",
       "  </thead>\n",
       "  <tbody>\n",
       "    <tr>\n",
       "      <th>0</th>\n",
       "      <td>2008-09-24</td>\n",
       "      <td>4.545357</td>\n",
       "      <td>4.676786</td>\n",
       "      <td>4.469643</td>\n",
       "      <td>4.596786</td>\n",
       "      <td>3.930333</td>\n",
       "      <td>1047015200</td>\n",
       "    </tr>\n",
       "    <tr>\n",
       "      <th>1</th>\n",
       "      <td>2008-09-25</td>\n",
       "      <td>4.635714</td>\n",
       "      <td>4.813929</td>\n",
       "      <td>4.590000</td>\n",
       "      <td>4.711786</td>\n",
       "      <td>4.028662</td>\n",
       "      <td>1006045600</td>\n",
       "    </tr>\n",
       "    <tr>\n",
       "      <th>2</th>\n",
       "      <td>2008-09-26</td>\n",
       "      <td>4.461071</td>\n",
       "      <td>4.635714</td>\n",
       "      <td>4.392857</td>\n",
       "      <td>4.580000</td>\n",
       "      <td>3.915981</td>\n",
       "      <td>1126451200</td>\n",
       "    </tr>\n",
       "    <tr>\n",
       "      <th>3</th>\n",
       "      <td>2008-09-29</td>\n",
       "      <td>4.272143</td>\n",
       "      <td>4.274286</td>\n",
       "      <td>3.592500</td>\n",
       "      <td>3.759286</td>\n",
       "      <td>3.214257</td>\n",
       "      <td>2622057200</td>\n",
       "    </tr>\n",
       "    <tr>\n",
       "      <th>4</th>\n",
       "      <td>2008-09-30</td>\n",
       "      <td>3.866071</td>\n",
       "      <td>4.107143</td>\n",
       "      <td>3.796429</td>\n",
       "      <td>4.059286</td>\n",
       "      <td>3.470762</td>\n",
       "      <td>1626682400</td>\n",
       "    </tr>\n",
       "  </tbody>\n",
       "</table>\n",
       "</div>"
      ],
      "text/plain": [
       "        Date      Open      High       Low     Close  Adj Close      Volume\n",
       "0 2008-09-24  4.545357  4.676786  4.469643  4.596786   3.930333  1047015200\n",
       "1 2008-09-25  4.635714  4.813929  4.590000  4.711786   4.028662  1006045600\n",
       "2 2008-09-26  4.461071  4.635714  4.392857  4.580000   3.915981  1126451200\n",
       "3 2008-09-29  4.272143  4.274286  3.592500  3.759286   3.214257  2622057200\n",
       "4 2008-09-30  3.866071  4.107143  3.796429  4.059286   3.470762  1626682400"
      ]
     },
     "execution_count": 10,
     "metadata": {},
     "output_type": "execute_result"
    }
   ],
   "source": [
    "data.head()"
   ]
  },
  {
   "cell_type": "code",
   "execution_count": 11,
   "id": "f0cbd066",
   "metadata": {},
   "outputs": [],
   "source": [
    "X = data[[\"Open\",\"High\",\"Low\",\"Volume\"]]\n",
    "y = data['Close']"
   ]
  },
  {
   "cell_type": "code",
   "execution_count": 12,
   "id": "08b77fa2",
   "metadata": {},
   "outputs": [],
   "source": [
    "X = X.to_numpy()\n",
    "y = y.to_numpy()\n",
    "y = y.reshape(-1,1)"
   ]
  },
  {
   "cell_type": "code",
   "execution_count": 13,
   "id": "48d09969",
   "metadata": {},
   "outputs": [],
   "source": [
    "from sklearn.model_selection import train_test_split"
   ]
  },
  {
   "cell_type": "code",
   "execution_count": 14,
   "id": "430fbf78",
   "metadata": {},
   "outputs": [],
   "source": [
    "X_train, X_test, y_train, y_test = train_test_split(X, y, test_size=0.2, random_state=42)"
   ]
  },
  {
   "cell_type": "code",
   "execution_count": 15,
   "id": "9b2c4aeb",
   "metadata": {},
   "outputs": [],
   "source": [
    "from keras.models import Sequential"
   ]
  },
  {
   "cell_type": "code",
   "execution_count": 16,
   "id": "ea367151",
   "metadata": {},
   "outputs": [],
   "source": [
    "from keras.layers import Dense, LSTM"
   ]
  },
  {
   "cell_type": "code",
   "execution_count": 17,
   "id": "f4f271db",
   "metadata": {},
   "outputs": [],
   "source": [
    "model = Sequential()"
   ]
  },
  {
   "cell_type": "code",
   "execution_count": 18,
   "id": "e37928b4",
   "metadata": {},
   "outputs": [],
   "source": [
    "model.add(LSTM(128,return_sequences=True,input_shape= (X_train.shape[1], 1)))\n",
    "model.add(LSTM(64,return_sequences=False))\n",
    "model.add(Dense(25))\n",
    "model.add(Dense(1))"
   ]
  },
  {
   "cell_type": "code",
   "execution_count": 20,
   "id": "ceb6a950",
   "metadata": {},
   "outputs": [
    {
     "name": "stdout",
     "output_type": "stream",
     "text": [
      "Epoch 1/30\n",
      "2758/2758 [==============================] - 7s 2ms/step - loss: 11.1269\n",
      "Epoch 2/30\n",
      "2758/2758 [==============================] - 6s 2ms/step - loss: 11.9287\n",
      "Epoch 3/30\n",
      "2758/2758 [==============================] - 5s 2ms/step - loss: 8.4294\n",
      "Epoch 4/30\n",
      "2758/2758 [==============================] - 6s 2ms/step - loss: 7.6617\n",
      "Epoch 5/30\n",
      "2758/2758 [==============================] - 6s 2ms/step - loss: 9.0684\n",
      "Epoch 6/30\n",
      "2758/2758 [==============================] - 6s 2ms/step - loss: 5.3224\n",
      "Epoch 7/30\n",
      "2758/2758 [==============================] - 6s 2ms/step - loss: 7.6332\n",
      "Epoch 8/30\n",
      "2758/2758 [==============================] - 6s 2ms/step - loss: 8.6396\n",
      "Epoch 9/30\n",
      "2758/2758 [==============================] - 6s 2ms/step - loss: 6.8195\n",
      "Epoch 10/30\n",
      "2758/2758 [==============================] - 6s 2ms/step - loss: 4.4103\n",
      "Epoch 11/30\n",
      "2758/2758 [==============================] - 6s 2ms/step - loss: 5.2118\n",
      "Epoch 12/30\n",
      "2758/2758 [==============================] - 6s 2ms/step - loss: 6.7055\n",
      "Epoch 13/30\n",
      "2758/2758 [==============================] - 6s 2ms/step - loss: 4.0551\n",
      "Epoch 14/30\n",
      "2758/2758 [==============================] - 6s 2ms/step - loss: 5.4675\n",
      "Epoch 15/30\n",
      "2758/2758 [==============================] - 6s 2ms/step - loss: 5.7654\n",
      "Epoch 16/30\n",
      "2758/2758 [==============================] - 6s 2ms/step - loss: 5.5040\n",
      "Epoch 17/30\n",
      "2758/2758 [==============================] - 6s 2ms/step - loss: 5.8769\n",
      "Epoch 18/30\n",
      "2758/2758 [==============================] - 6s 2ms/step - loss: 5.2367\n",
      "Epoch 19/30\n",
      "2758/2758 [==============================] - 6s 2ms/step - loss: 4.9033\n",
      "Epoch 20/30\n",
      "2758/2758 [==============================] - 6s 2ms/step - loss: 5.2746\n",
      "Epoch 21/30\n",
      "2758/2758 [==============================] - 6s 2ms/step - loss: 5.0306\n",
      "Epoch 22/30\n",
      "2758/2758 [==============================] - 6s 2ms/step - loss: 3.4539\n",
      "Epoch 23/30\n",
      "2758/2758 [==============================] - 6s 2ms/step - loss: 4.1731\n",
      "Epoch 24/30\n",
      "2758/2758 [==============================] - 6s 2ms/step - loss: 5.4386\n",
      "Epoch 25/30\n",
      "2758/2758 [==============================] - 6s 2ms/step - loss: 3.9508\n",
      "Epoch 26/30\n",
      "2758/2758 [==============================] - 6s 2ms/step - loss: 4.2796\n",
      "Epoch 27/30\n",
      "2758/2758 [==============================] - 6s 2ms/step - loss: 3.8000\n",
      "Epoch 28/30\n",
      "2758/2758 [==============================] - 6s 2ms/step - loss: 4.5423\n",
      "Epoch 29/30\n",
      "2758/2758 [==============================] - 6s 2ms/step - loss: 4.1408\n",
      "Epoch 30/30\n",
      "2758/2758 [==============================] - 6s 2ms/step - loss: 3.2034\n"
     ]
    },
    {
     "data": {
      "text/plain": [
       "<keras.callbacks.History at 0x14daee78a30>"
      ]
     },
     "execution_count": 20,
     "metadata": {},
     "output_type": "execute_result"
    }
   ],
   "source": [
    "model.compile(optimizer='adam', loss='mean_squared_error')\n",
    "model.fit(X_train, y_train, batch_size=1, epochs=30)"
   ]
  },
  {
   "cell_type": "code",
   "execution_count": 21,
   "id": "a3072a66",
   "metadata": {},
   "outputs": [
    {
     "data": {
      "text/plain": [
       "array([[175.90538]], dtype=float32)"
      ]
     },
     "execution_count": 21,
     "metadata": {},
     "output_type": "execute_result"
    }
   ],
   "source": [
    "import numpy as np\n",
    "features = np.array([[177.089996, 180.419998, 177.070007, 74919600]])\n",
    "model.predict(features)"
   ]
  },
  {
   "cell_type": "code",
   "execution_count": null,
   "id": "b192d42d",
   "metadata": {},
   "outputs": [],
   "source": []
  }
 ],
 "metadata": {
  "kernelspec": {
   "display_name": "Python 3 (ipykernel)",
   "language": "python",
   "name": "python3"
  },
  "language_info": {
   "codemirror_mode": {
    "name": "ipython",
    "version": 3
   },
   "file_extension": ".py",
   "mimetype": "text/x-python",
   "name": "python",
   "nbconvert_exporter": "python",
   "pygments_lexer": "ipython3",
   "version": "3.9.7"
  }
 },
 "nbformat": 4,
 "nbformat_minor": 5
}

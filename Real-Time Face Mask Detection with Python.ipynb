{
 "cells": [
  {
   "cell_type": "code",
   "execution_count": 1,
   "id": "42fb1afe",
   "metadata": {},
   "outputs": [],
   "source": [
    "from tensorflow.keras.models import Sequential"
   ]
  },
  {
   "cell_type": "code",
   "execution_count": 2,
   "id": "59113371",
   "metadata": {},
   "outputs": [],
   "source": [
    "from tensorflow.keras.layers import Conv2D, MaxPooling2D, Flatten, Dropout, Dense"
   ]
  },
  {
   "cell_type": "code",
   "execution_count": 3,
   "id": "4f5573b7",
   "metadata": {},
   "outputs": [],
   "source": [
    "cnn = Sequential([Conv2D(filters=100,kernel_size=(3,3),\n",
    "                        activation='relu'),\n",
    "                 MaxPooling2D(pool_size=(2,2)),\n",
    "                 Conv2D(filters=100,kernel_size=(3,3),\n",
    "                        activation='relu'),\n",
    "                 MaxPooling2D(pool_size=(2,2)),\n",
    "                 Flatten(),\n",
    "                 Dropout(0.5),\n",
    "                 Dense(50),\n",
    "                 Dense(35),\n",
    "                 Dense(2)])"
   ]
  },
  {
   "cell_type": "code",
   "execution_count": 4,
   "id": "aae9a0c2",
   "metadata": {},
   "outputs": [],
   "source": [
    "cnn.compile(optimizer='adam',loss='binary_crossentropy',metrics=['acc'])"
   ]
  },
  {
   "cell_type": "code",
   "execution_count": 5,
   "id": "52e9ca23",
   "metadata": {},
   "outputs": [],
   "source": [
    "import cv2"
   ]
  },
  {
   "cell_type": "code",
   "execution_count": 6,
   "id": "2c5a6fe6",
   "metadata": {},
   "outputs": [],
   "source": [
    "import numpy as np"
   ]
  },
  {
   "cell_type": "code",
   "execution_count": 7,
   "id": "5feaa3ba",
   "metadata": {},
   "outputs": [],
   "source": [
    "labels_dict = {0:'No Mask', 1:'Mask'}\n",
    "color_dict = {0:(0,0,255),1:(0,255,0)}\n",
    "imgsize = 4"
   ]
  },
  {
   "cell_type": "code",
   "execution_count": 8,
   "id": "c82a0844",
   "metadata": {},
   "outputs": [
    {
     "ename": "NameError",
     "evalue": "name 'webcam' is not defined",
     "output_type": "error",
     "traceback": [
      "\u001b[1;31m---------------------------------------------------------------------------\u001b[0m",
      "\u001b[1;31mNameError\u001b[0m                                 Traceback (most recent call last)",
      "\u001b[1;32m~\\AppData\\Local\\Temp/ipykernel_772/2142727581.py\u001b[0m in \u001b[0;36m<module>\u001b[1;34m\u001b[0m\n\u001b[0;32m     25\u001b[0m         \u001b[1;32mbreak\u001b[0m\u001b[1;33m\u001b[0m\u001b[1;33m\u001b[0m\u001b[0m\n\u001b[0;32m     26\u001b[0m \u001b[1;33m\u001b[0m\u001b[0m\n\u001b[1;32m---> 27\u001b[1;33m \u001b[0mwebcam\u001b[0m\u001b[1;33m.\u001b[0m\u001b[0mrelease\u001b[0m\u001b[1;33m(\u001b[0m\u001b[1;33m)\u001b[0m\u001b[1;33m\u001b[0m\u001b[1;33m\u001b[0m\u001b[0m\n\u001b[0m\u001b[0;32m     28\u001b[0m \u001b[0mcv2\u001b[0m\u001b[1;33m.\u001b[0m\u001b[0mdestroyAllWindows\u001b[0m\u001b[1;33m(\u001b[0m\u001b[1;33m)\u001b[0m\u001b[1;33m\u001b[0m\u001b[1;33m\u001b[0m\u001b[0m\n",
      "\u001b[1;31mNameError\u001b[0m: name 'webcam' is not defined"
     ]
    }
   ],
   "source": [
    "# Identify frontal face\n",
    "camera = cv2.VideoCapture(0)\n",
    "classifier = cv2.CascadeClassifier(cv2.data.haarcascades+'haarcascade_frontalface_default.xml')\n",
    "while True:\n",
    "    (rval,im) = camera.read()\n",
    "    im = cv2.flip(im,1,1) #mirror the image\n",
    "    imgs = cv2.resize(im,(im.shape[1]//imgsize,im.shape[0]//imgsize))\n",
    "    face_rec = classifier.detectMultiScale(imgs)\n",
    "    for i in face_rec:\n",
    "        (x,y,l,w) =[v*imgsize for v in i]\n",
    "        face_img = im[y:y+w, x:x+l]\n",
    "        resized = cv2.resize(face_img,(150,150))\n",
    "        normalized = resized/255.0\n",
    "        reshaped= np.reshape(normalized,(1,150,150,3))\n",
    "        reshaped= np.vstack([reshaped])\n",
    "        result = cnn.predict(reshaped)\n",
    "        label = np.argmax(result,axis=1)[0]\n",
    "        cv2.rectangle(im,(x,y),(x+l,y+w),color_dict[label],2)\n",
    "        cv2.rectangle(im,(x,y-40),(x+l,y),color_dict[label],-1)\n",
    "        cv2.putText(im,labels_dict[label], (x,y-10),cv2.FONT_HERSHEY_SIMPLEX,0.8,(255,255,255),2)\n",
    "    cv2.imshow('LIVE',im)\n",
    "    key = cv2.waitKey(10)\n",
    "    \n",
    "    if key == 27:\n",
    "        break\n",
    "        \n",
    "webcam.release()\n",
    "cv2.destroyAllWindows()  "
   ]
  },
  {
   "cell_type": "code",
   "execution_count": null,
   "id": "580a2391",
   "metadata": {},
   "outputs": [],
   "source": []
  }
 ],
 "metadata": {
  "kernelspec": {
   "display_name": "Python 3 (ipykernel)",
   "language": "python",
   "name": "python3"
  },
  "language_info": {
   "codemirror_mode": {
    "name": "ipython",
    "version": 3
   },
   "file_extension": ".py",
   "mimetype": "text/x-python",
   "name": "python",
   "nbconvert_exporter": "python",
   "pygments_lexer": "ipython3",
   "version": "3.9.7"
  }
 },
 "nbformat": 4,
 "nbformat_minor": 5
}
